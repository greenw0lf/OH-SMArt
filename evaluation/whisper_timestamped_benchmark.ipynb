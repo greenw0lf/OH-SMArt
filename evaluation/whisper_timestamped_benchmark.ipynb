{
 "cells": [
  {
   "cell_type": "code",
   "execution_count": null,
   "id": "4bd3808b-7b18-438c-8efe-7e6597560002",
   "metadata": {
    "tags": []
   },
   "outputs": [],
   "source": [
    "### THIS DIFFERS FROM OTHER BENCHMARK FILES BECAUSE IT WAS THE FIRST ATTEMPT AT BENCHMARKING\n",
    "### RE-RUNS WITH IMPROVED CODE WERE NOT DONE SINCE THEY ARE VERY TIME- AND RESOURCE-CONSUMING\n",
    "\n",
    "import whisper_timestamped as whisper\n",
    "import json\n",
    "import os\n",
    "import time\n",
    "import torch\n",
    "import datetime\n",
    "import gc\n",
    "\n",
    "start = time.time()\n",
    "model = whisper.load_model('large-v3', device=\"cuda:0\")\n",
    "\n",
    "for file in os.listdir('/evaluation/jasmin_comp_p/5_sil/'):\n",
    "    audio = whisper.load_audio('/evaluation/jasmin_comp_p/5_sil/' + file)\n",
    "    result = whisper.transcribe(model, audio, vad=True, beam_size=5, best_of=5, temperature=(0.0, 0.2, 0.4, 0.6, 0.8, 1.0), language=\"nl\")\n",
    "    with open('/evaluation/jasmin_comp_p/5_res/vad3/' + file[:-3] + 'json', 'w', encoding='utf-8') as f:\n",
    "        json.dump(result, f, indent = 2, ensure_ascii = False)\n",
    "        print(file[:-4] + ' has been transcribed')\n",
    "        print(f\"gpu used {torch.cuda.max_memory_allocated(device='cuda:0') / float(1e9)} GB memory\")\n",
    "        torch.cuda.reset_peak_memory_stats(device='cuda:0')\n",
    "\n",
    "end = time.time()\n",
    "time_s = end - start\n",
    "print('Time spent evaluating: ' + str(datetime.timedelta(seconds=time_s)))\n",
    "with open('/evaluation/jasmin_comp_p/5_res/vad3/a_time_spent.txt', 'w') as f:\n",
    "    f.write(str(datetime.timedelta(seconds=time_s)))\n",
    "\n",
    "del model\n",
    "torch.cuda.empty_cache()\n",
    "gc.collect()"
   ]
  }
 ],
 "metadata": {
  "kernelspec": {
   "display_name": "latest_venv",
   "language": "python",
   "name": "latest_venv"
  },
  "language_info": {
   "codemirror_mode": {
    "name": "ipython",
    "version": 3
   },
   "file_extension": ".py",
   "mimetype": "text/x-python",
   "name": "python",
   "nbconvert_exporter": "python",
   "pygments_lexer": "ipython3",
   "version": "3.10.13"
  }
 },
 "nbformat": 4,
 "nbformat_minor": 5
}
